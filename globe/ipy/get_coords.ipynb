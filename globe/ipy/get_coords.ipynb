{
 "cells": [
  {
   "cell_type": "code",
   "execution_count": 1,
   "metadata": {},
   "outputs": [],
   "source": [
    "import pandas as pd"
   ]
  },
  {
   "cell_type": "code",
   "execution_count": 2,
   "metadata": {},
   "outputs": [],
   "source": [
    "# Open csv file\n",
    "data = pd.read_csv('../data/h1b_kaggle.csv')"
   ]
  },
  {
   "cell_type": "code",
   "execution_count": 3,
   "metadata": {},
   "outputs": [
    {
     "data": {
      "text/plain": [
       "Index(['Unnamed: 0', 'CASE_STATUS', 'EMPLOYER_NAME', 'SOC_NAME', 'JOB_TITLE',\n",
       "       'FULL_TIME_POSITION', 'PREVAILING_WAGE', 'YEAR', 'WORKSITE', 'lon',\n",
       "       'lat'],\n",
       "      dtype='object')"
      ]
     },
     "execution_count": 3,
     "metadata": {},
     "output_type": "execute_result"
    }
   ],
   "source": [
    "# Print columns\n",
    "data.columns"
   ]
  },
  {
   "cell_type": "code",
   "execution_count": 9,
   "metadata": {},
   "outputs": [],
   "source": [
    "# Get list of employers sorted by name\n",
    "emp = data['EMPLOYER_NAME'].dropna().sort_values().unique()"
   ]
  },
  {
   "cell_type": "code",
   "execution_count": 49,
   "metadata": {},
   "outputs": [],
   "source": [
    "# Filter data for each of the top 10 employers\n",
    "cog = data[data['EMPLOYER_NAME'] == 'COGNIZANT TECHNOLOGY SOLUTIONS U.S. CORPORATION'].dropna()\n",
    "ernst = data[data['EMPLOYER_NAME'] == 'ERNST & YOUNG U.S LLP'].dropna()\n",
    "hcl = data[data['EMPLOYER_NAME'] == 'HCL AMERICA, INC.'].dropna()\n",
    "mic = data[data['EMPLOYER_NAME'] == 'MICROSOFT CORPORATION'].dropna()\n",
    "acc = data[data['EMPLOYER_NAME'] == 'ACCENTURE LLP'].dropna()\n",
    "ibm = data[data['EMPLOYER_NAME'] == 'IBM INDIA PRIVATE LIMITED'].dropna()\n",
    "delo = data[data['EMPLOYER_NAME'] == 'DELIOTTE CONSULTING LLP'].dropna()\n",
    "wip = data[data['EMPLOYER_NAME'] == 'WIPRO LIMITED'].dropna()\n",
    "tata = data[data['EMPLOYER_NAME'] == 'TATA CONSULTANCY SERVICES LIMITED'].dropna()\n",
    "info = data[data['EMPLOYER_NAME'] == 'INFOSYS LIMITED'].dropna()"
   ]
  },
  {
   "cell_type": "code",
   "execution_count": 50,
   "metadata": {},
   "outputs": [],
   "source": [
    "# Filter out duplate coordinates and save to csv file\n",
    "out = cog.loc[:, 'lon':'lat'].drop_duplicates(subset=['lon', 'lat'])\n",
    "out.to_csv('../data/cog_coords.csv')\n",
    "\n",
    "out = ernst.loc[:, 'lon':'lat'].drop_duplicates(subset=['lon', 'lat'])\n",
    "out.to_csv('../data/ernst_coords.csv')\n",
    "\n",
    "out = hcl.loc[:, 'lon':'lat'].drop_duplicates(subset=['lon', 'lat'])\n",
    "out.to_csv('../data/hcl_coords.csv')\n",
    "\n",
    "out = mic.loc[:, 'lon':'lat'].drop_duplicates(subset=['lon', 'lat'])\n",
    "out.to_csv('../data/mic_coords.csv')\n",
    "\n",
    "out = acc.loc[:, 'lon':'lat'].drop_duplicates(subset=['lon', 'lat'])\n",
    "out.to_csv('../data/acc_coords.csv')\n",
    "\n",
    "out = ibm.loc[:, 'lon':'lat'].drop_duplicates(subset=['lon', 'lat'])\n",
    "out.to_csv('../data/ibm_coords.csv')\n",
    "\n",
    "out = delo.loc[:, 'lon':'lat'].drop_duplicates(subset=['lon', 'lat'])\n",
    "out.to_csv('../data/delo_coords.csv')\n",
    "\n",
    "out = wip.loc[:, 'lon':'lat'].drop_duplicates(subset=['lon', 'lat'])\n",
    "out.to_csv('../data/wip_coords.csv')\n",
    "\n",
    "out = tata.loc[:, 'lon':'lat'].drop_duplicates(subset=['lon', 'lat'])\n",
    "out.to_csv('../data/tata_coords.csv')\n",
    "\n",
    "out = info.loc[:, 'lon':'lat'].drop_duplicates(subset=['lon', 'lat'])\n",
    "out.to_csv('../data/info_coords.csv')"
   ]
  }
 ],
 "metadata": {
  "kernelspec": {
   "display_name": "Python 3",
   "language": "python",
   "name": "python3"
  },
  "language_info": {
   "codemirror_mode": {
    "name": "ipython",
    "version": 3
   },
   "file_extension": ".py",
   "mimetype": "text/x-python",
   "name": "python",
   "nbconvert_exporter": "python",
   "pygments_lexer": "ipython3",
   "version": "3.6.7"
  }
 },
 "nbformat": 4,
 "nbformat_minor": 2
}
